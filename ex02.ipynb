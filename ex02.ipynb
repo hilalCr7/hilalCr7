{
  "nbformat": 4,
  "nbformat_minor": 0,
  "metadata": {
    "colab": {
      "provenance": [],
      "authorship_tag": "ABX9TyMfFdgtwzZp25wHGKwNnFqU",
      "include_colab_link": true
    },
    "kernelspec": {
      "name": "python3",
      "display_name": "Python 3"
    },
    "language_info": {
      "name": "python"
    }
  },
  "cells": [
    {
      "cell_type": "markdown",
      "metadata": {
        "id": "view-in-github",
        "colab_type": "text"
      },
      "source": [
        "<a href=\"https://colab.research.google.com/github/hilalCr7/hilalCr7/blob/main/ex02.ipynb\" target=\"_parent\"><img src=\"https://colab.research.google.com/assets/colab-badge.svg\" alt=\"Open In Colab\"/></a>"
      ]
    },
    {
      "cell_type": "code",
      "source": [
        "def add(x, y):\n",
        "    return x + y\n",
        "\n",
        "def subtract(x, y):\n",
        "    return x - y\n",
        "\n",
        "def multiply(x, y):\n",
        "    return x * y\n",
        "\n",
        "def divide(x, y):\n",
        "    if y != 0:\n",
        "        return x / y\n",
        "    else:\n",
        "        return \"Error: Cannot divide by zero.\"\n",
        "\n",
        "if __name__ == \"__main__\":\n",
        "    print(\"Simple Calculator\")\n",
        "    print(\"Operations:\")\n",
        "    print(\"1. Add\")\n",
        "    print(\"2. Subtract\")\n",
        "    print(\"3. Multiply\")\n",
        "    print(\"4. Divide\")\n",
        "\n",
        "    choice = input(\"Enter the operation number (1/2/3/4): \")\n",
        "\n",
        "    num1 = float(input(\"Enter the first number: \"))\n",
        "    num2 = float(input(\"Enter the second number: \"))\n",
        "\n",
        "    result = None\n",
        "\n",
        "    if choice == '1':\n",
        "        result = add(num1, num2)\n",
        "    elif choice == '2':\n",
        "        result = subtract(num1, num2)\n",
        "    elif choice == '3':\n",
        "        result = multiply(num1, num2)\n",
        "    elif choice == '4':\n",
        "        result = divide(num1, num2)\n",
        "    else:\n",
        "        print(\"Invalid operation\")\n",
        "\n",
        "    if result is not None:\n",
        "        print(\"Result:\", result)\n"
      ],
      "metadata": {
        "colab": {
          "base_uri": "https://localhost:8080/"
        },
        "id": "0yr9nDLZkDYm",
        "outputId": "1105008b-05ae-4b84-a54e-59fbd584eac6"
      },
      "execution_count": null,
      "outputs": [
        {
          "output_type": "stream",
          "name": "stdout",
          "text": [
            "Simple Calculator\n",
            "Operations:\n",
            "1. Add\n",
            "2. Subtract\n",
            "3. Multiply\n",
            "4. Divide\n",
            "Enter the operation number (1/2/3/4): 3\n",
            "Enter the first number: 22\n",
            "Enter the second number: 4\n",
            "Result: 88.0\n"
          ]
        }
      ]
    }
  ]
}